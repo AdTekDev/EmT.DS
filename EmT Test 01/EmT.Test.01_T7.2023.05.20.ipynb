{
 "cells": [
  {
   "cell_type": "markdown",
   "id": "1e4c006a",
   "metadata": {},
   "source": [
    "# Emerging Technologies - TEST 01 \n",
    "\n",
    "## Class: IT 306DE01-0100 (1237) \n",
    "### Duration:  90'\n",
    "### Date: Sat, May 20, 2023 "
   ]
  },
  {
   "cell_type": "markdown",
   "id": "0f994e5c",
   "metadata": {},
   "source": [
    "## Image classification  \n",
    "\n",
    "Write Python code to apply flower classification using TensorFlow and Keras.   \n",
    "The goal is to train a learning model that can accurately classify different types of flowers based on input images. The dataset for flower recognition will be specifically assigned by your instructor.   \n",
    "\n",
    "Criteria for Grading the Implementation Steps:  \n",
    "1. Organize the dataset into training and testing sets. \n",
    "2. Define the architecture of your model. \n",
    "3. Compile the model by specifying the optimizer, loss function, and evaluation metrics.\n",
    "4. Use the trained model to make predictions on new, unseen images.\n",
    "5. Visualize the predictions and analyze the model's performance.\n",
    "\n",
    "Grading will be based on the accuracy and correctness of the implementation, adherence to best practices, and the quality of the analysis and visualization provided.  \n",
    "\n",
    "Submit your ipynb file to mLearning system."
   ]
  },
  {
   "cell_type": "markdown",
   "id": "b4138b5d",
   "metadata": {},
   "source": [
    "## DataSet\n",
    "\n",
    "- Set A:  \n",
    "https://github.com/AdTekDev/EmT.DS/raw/main/EmT%20Test%2001/Set_A.zip \n",
    "\n",
    "- Set B:  \n",
    "https://github.com/AdTekDev/EmT.DS/raw/main/EmT%20Test%2001/Set_B.zip\n",
    "\n",
    "- Set C:  \n",
    "https://github.com/AdTekDev/EmT.DS/raw/main/EmT%20Test%2001/Set_C.zip \n",
    "\n",
    "\n"
   ]
  },
  {
   "cell_type": "markdown",
   "id": "c14bb5b4",
   "metadata": {},
   "source": [
    "## Students - INFORMATION \n",
    "\n",
    "Set:\n",
    "- \n",
    "\n",
    "Student 01:\n",
    "- Fullname  \n",
    "- ID  \n",
    "\n",
    "\n",
    "Student 02:\n",
    "- Fullname  \n",
    "- ID  \n"
   ]
  },
  {
   "cell_type": "markdown",
   "id": "6355f339",
   "metadata": {},
   "source": [
    "## Student's SOLUTION\n"
   ]
  },
  {
   "cell_type": "code",
   "execution_count": null,
   "id": "5f45f057",
   "metadata": {},
   "outputs": [],
   "source": []
  }
 ],
 "metadata": {
  "kernelspec": {
   "display_name": "Python 3 (ipykernel)",
   "language": "python",
   "name": "python3"
  },
  "language_info": {
   "codemirror_mode": {
    "name": "ipython",
    "version": 3
   },
   "file_extension": ".py",
   "mimetype": "text/x-python",
   "name": "python",
   "nbconvert_exporter": "python",
   "pygments_lexer": "ipython3",
   "version": "3.11.2"
  }
 },
 "nbformat": 4,
 "nbformat_minor": 5
}
