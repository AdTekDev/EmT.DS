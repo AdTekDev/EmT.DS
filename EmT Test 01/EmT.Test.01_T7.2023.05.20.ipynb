{
 "cells": [
  {
   "cell_type": "markdown",
   "id": "a06144d2",
   "metadata": {},
   "source": [
    "# Emerging Technologies - TEST 01 \n",
    "\n",
    "## Class: IT 306DE01-0100 (1237) \n",
    "### Duration:  90'\n",
    "### Date: Sat, May 20, 2023 "
   ]
  },
  {
   "cell_type": "markdown",
   "id": "36b6715e",
   "metadata": {},
   "source": [
    "## Image classification  \n",
    "\n",
    "Write Python code to apply flower classification using TensorFlow and Keras.   \n",
    "The goal is to train a learning model that can accurately classify different types of flowers based on input images. The dataset for flower recognition will be specifically assigned by your instructor.   \n",
    "\n",
    "Criteria for Grading the Implementation Steps:  \n",
    "1. Organize the dataset into training and testing sets. \n",
    "2. Define the architecture of your model. \n",
    "3. Compile the model by specifying the optimizer, loss function, and evaluation metrics.\n",
    "4. Use the trained model to make predictions on new, unseen images.\n",
    "5. Visualize the predictions and analyze the model's performance.\n",
    "\n",
    "Grading will be based on the accuracy and correctness of the implementation, adherence to best practices, and the quality of the analysis and visualization provided.  \n",
    "\n",
    "Submit your ipynb file to mLearning system.\n",
    "- https://mlearning.hoasen.edu.vn/mod/assign/view.php?id=924674 \n"
   ]
  },
  {
   "cell_type": "markdown",
   "id": "d92cecbf",
   "metadata": {},
   "source": [
    "## DataSet\n",
    "\n",
    "- Set A:  \n",
    "https://raw.githubusercontent.com/AdTekDev/EmT.DS/main/EmT%20Test%2001/Set_A.zip \n",
    "\n",
    "- Set B:  \n",
    "https://raw.githubusercontent.com/AdTekDev/EmT.DS/main/EmT%20Test%2001/Set_B.zip\n",
    "\n",
    "- Set C:  \n",
    "https://raw.githubusercontent.com/AdTekDev/EmT.DS/main/EmT%20Test%2001/Set_C.zip \n",
    "\n",
    "\n",
    "** https://raw.githubusercontent.com/AdTekDev/EmT.DS/  \n",
    "\n"
   ]
  },
  {
   "cell_type": "markdown",
   "id": "5baf14ce",
   "metadata": {},
   "source": [
    "## Students - INFORMATION \n",
    "\n",
    "Set:\n",
    "- \n",
    "\n",
    "Student 01:\n",
    "- Fullname  \n",
    "- ID  \n",
    "\n",
    "\n",
    "Student 02:\n",
    "- Fullname  \n",
    "- ID  \n"
   ]
  },
  {
   "cell_type": "markdown",
   "id": "18f99121",
   "metadata": {},
   "source": [
    "## Student's SOLUTION\n"
   ]
  },
  {
   "cell_type": "code",
   "execution_count": 15,
   "id": "8ae04947",
   "metadata": {
    "scrolled": false
   },
   "outputs": [
    {
     "name": "stderr",
     "output_type": "stream",
     "text": [
      "  % Total    % Received % Xferd  Average Speed   Time    Time     Time  Current\n",
      "                                 Dload  Upload   Total   Spent    Left  Speed\n",
      "\n",
      "  0     0    0     0    0     0      0      0 --:--:-- --:--:-- --:--:--     0\n",
      " 11 10.7M   11 1230k    0     0  1671k      0  0:00:06 --:--:--  0:00:06 1679k\n",
      " 46 10.7M   46 5102k    0     0  2947k      0  0:00:03  0:00:01  0:00:02 2951k\n",
      " 83 10.7M   83 9230k    0     0  3370k      0  0:00:03  0:00:02  0:00:01 3373k\n",
      "100 10.7M  100 10.7M    0     0  3324k      0  0:00:03  0:00:03 --:--:-- 3328k\n"
     ]
    }
   ],
   "source": [
    "!  curl \"https://raw.githubusercontent.com/AdTekDev/EmT.DS/main/EmT%20Test%2001/Set_A.zip\" > A.zip  "
   ]
  },
  {
   "cell_type": "code",
   "execution_count": 16,
   "id": "fdbdbf8a",
   "metadata": {},
   "outputs": [],
   "source": [
    "!  tar -xf A.zip "
   ]
  }
 ],
 "metadata": {
  "kernelspec": {
   "display_name": "Python 3 (ipykernel)",
   "language": "python",
   "name": "python3"
  },
  "language_info": {
   "codemirror_mode": {
    "name": "ipython",
    "version": 3
   },
   "file_extension": ".py",
   "mimetype": "text/x-python",
   "name": "python",
   "nbconvert_exporter": "python",
   "pygments_lexer": "ipython3",
   "version": "3.11.2"
  }
 },
 "nbformat": 4,
 "nbformat_minor": 5
}
