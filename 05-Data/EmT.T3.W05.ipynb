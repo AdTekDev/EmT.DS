{
 "cells": [
  {
   "cell_type": "code",
   "execution_count": null,
   "id": "25dc33a3",
   "metadata": {},
   "outputs": [],
   "source": [
    "! pip install scikit-learn\n",
    "! pip install seaborn"
   ]
  },
  {
   "cell_type": "markdown",
   "id": "e929dc22",
   "metadata": {},
   "source": [
    "## Training / M. Learning"
   ]
  },
  {
   "cell_type": "code",
   "execution_count": 1,
   "id": "e6cc1911",
   "metadata": {},
   "outputs": [],
   "source": [
    "import pandas as pd\n",
    "import numpy as np\n",
    "import seaborn as sns \n",
    "import matplotlib.pyplot as plt\n",
    "\n",
    "from sklearn import linear_model"
   ]
  },
  {
   "cell_type": "code",
   "execution_count": 6,
   "id": "eefe9eb9",
   "metadata": {},
   "outputs": [],
   "source": [
    "import random"
   ]
  },
  {
   "cell_type": "markdown",
   "id": "a7f6d1aa",
   "metadata": {},
   "source": [
    "## model - (TRain - Validate) - Test"
   ]
  },
  {
   "cell_type": "code",
   "execution_count": 3,
   "id": "09cd2cd7",
   "metadata": {},
   "outputs": [],
   "source": [
    "# VD 01. model z = 3x + 5y + 8\n",
    "\n",
    "xy = [\n",
    "    [0,0],\n",
    "    [0,-1],\n",
    "    [-1,0],\n",
    "    [-1,-1],\n",
    "    [1,1]\n",
    "]\n",
    "\n",
    "z = [8,3,5,0,16]"
   ]
  },
  {
   "cell_type": "code",
   "execution_count": 9,
   "id": "233a42b9",
   "metadata": {},
   "outputs": [
    {
     "name": "stdout",
     "output_type": "stream",
     "text": [
      "[3. 5.] 8.0\n"
     ]
    }
   ],
   "source": [
    "zModel = linear_model.LinearRegression()\n",
    "zModel.fit(xy, z)\n",
    "print(zModel.coef_ , zModel.intercept_ )"
   ]
  },
  {
   "cell_type": "code",
   "execution_count": 8,
   "id": "ce120446",
   "metadata": {
    "scrolled": true
   },
   "outputs": [
    {
     "data": {
      "text/plain": [
       "[8.459989933368496,\n",
       " 3.6097768577416547,\n",
       " 5.253022699135957,\n",
       " 1.7096908972884002,\n",
       " 17.3252642433325]"
      ]
     },
     "execution_count": 8,
     "metadata": {},
     "output_type": "execute_result"
    }
   ],
   "source": [
    "z01 = z.copy()\n",
    "for i in range(len(z01)):\n",
    "    z01[i] += random.random()*2\n",
    "z01"
   ]
  },
  {
   "cell_type": "code",
   "execution_count": 10,
   "id": "64c7b96c",
   "metadata": {},
   "outputs": [
    {
     "name": "stdout",
     "output_type": "stream",
     "text": [
      "[3.19049066 4.83373651] 8.876394360415027\n"
     ]
    }
   ],
   "source": [
    "zModel = linear_model.LinearRegression()\n",
    "zModel.fit(xy, z01)\n",
    "print(zModel.coef_ , zModel.intercept_ )"
   ]
  },
  {
   "cell_type": "code",
   "execution_count": 11,
   "id": "a67f4c94",
   "metadata": {
    "scrolled": true
   },
   "outputs": [
    {
     "name": "stderr",
     "output_type": "stream",
     "text": [
      "  % Total    % Received % Xferd  Average Speed   Time    Time     Time  Current\n",
      "                                 Dload  Upload   Total   Spent    Left  Speed\n",
      "\n",
      "  0     0    0     0    0     0      0      0 --:--:-- --:--:-- --:--:--     0\n",
      "  5  795k    5 48298    0     0  48898      0  0:00:16 --:--:--  0:00:16 48934\n",
      "100  795k  100  795k    0     0   590k      0  0:00:01  0:00:01 --:--:--  591k\n"
     ]
    }
   ],
   "source": [
    "## vd02 - london weather \n",
    "! curl \"https://raw.githubusercontent.com/AdTekDev/EmT.DS/main/05-Data/london_weather.csv\"  > ldw.csv"
   ]
  },
  {
   "cell_type": "code",
   "execution_count": 12,
   "id": "5cdd4b78",
   "metadata": {},
   "outputs": [
    {
     "data": {
      "text/plain": [
       "(15341, 10)"
      ]
     },
     "execution_count": 12,
     "metadata": {},
     "output_type": "execute_result"
    }
   ],
   "source": [
    "ldw = pd.read_csv(\"ldw.csv\")\n",
    "ldw.shape"
   ]
  }
 ],
 "metadata": {
  "kernelspec": {
   "display_name": "Python 3 (ipykernel)",
   "language": "python",
   "name": "python3"
  },
  "language_info": {
   "codemirror_mode": {
    "name": "ipython",
    "version": 3
   },
   "file_extension": ".py",
   "mimetype": "text/x-python",
   "name": "python",
   "nbconvert_exporter": "python",
   "pygments_lexer": "ipython3",
   "version": "3.11.2"
  }
 },
 "nbformat": 4,
 "nbformat_minor": 5
}
