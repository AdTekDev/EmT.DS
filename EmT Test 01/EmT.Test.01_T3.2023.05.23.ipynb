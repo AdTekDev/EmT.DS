{
 "cells": [
  {
   "cell_type": "markdown",
   "id": "a06144d2",
   "metadata": {},
   "source": [
    "# Emerging Technologies - TEST 01 \n",
    "\n",
    "## Class: IT 306DE01-0300 (1239) \n",
    "### Duration:  90'\n",
    "### Date: Tue, May 23, 2023 "
   ]
  },
  {
   "cell_type": "markdown",
   "id": "36b6715e",
   "metadata": {},
   "source": [
    "## Image classification  \n",
    "\n",
    "Write Python code to apply flower classification using TensorFlow and Keras.   \n",
    "The goal is to train a learning model that can accurately classify different types of flowers based on input images. The dataset for flower recognition will be specifically assigned by your instructor.   \n",
    "\n",
    "Criteria for Grading the Implementation Steps:  \n",
    "1. Organize the dataset into training and testing sets. \n",
    "2. Define the architecture of your model. \n",
    "3. Compile the model by specifying the optimizer, loss function, and evaluation metrics.\n",
    "4. Use the trained model to make predictions on new, unseen images.\n",
    "5. Visualize the predictions and analyze the model's performance.\n",
    "\n",
    "Grading will be based on the accuracy and correctness of the implementation, adherence to best practices, and the quality of the analysis and visualization provided.  \n",
    "\n",
    "Submit your ipynb file to mLearning system.\n",
    "- https://mlearning.hoasen.edu.vn/mod/assign/view.php?id=924823 \n"
   ]
  },
  {
   "cell_type": "markdown",
   "id": "d92cecbf",
   "metadata": {},
   "source": [
    "## DataSet\n",
    "\n",
    "- Set X:  \n",
    "https://raw.githubusercontent.com/AdTekDev/EmT.DS/main/EmT%20Test%2001/Set_X.zip \n",
    "\n",
    "- Set Y:  \n",
    "https://raw.githubusercontent.com/AdTekDev/EmT.DS/main/EmT%20Test%2001/Set_Y.zip\n",
    "\n",
    "- Set Z:  \n",
    "https://raw.githubusercontent.com/AdTekDev/EmT.DS/main/EmT%20Test%2001/Set_Z.zip\n",
    "\n",
    "\n",
    "** https://raw.githubusercontent.com/AdTekDev/EmT.DS/  \n",
    "\n"
   ]
  },
  {
   "cell_type": "markdown",
   "id": "5baf14ce",
   "metadata": {},
   "source": [
    "## Students - INFORMATION \n",
    "\n",
    "Set:\n",
    "- \n",
    "\n",
    "Student 01:\n",
    "- Fullname  \n",
    "- ID  \n",
    "\n",
    "\n",
    "Student 02:\n",
    "- Fullname  \n",
    "- ID  \n"
   ]
  },
  {
   "cell_type": "markdown",
   "id": "18f99121",
   "metadata": {},
   "source": [
    "## Student's SOLUTION\n"
   ]
  },
  {
   "cell_type": "code",
   "execution_count": 28,
   "id": "8ae04947",
   "metadata": {
    "scrolled": true
   },
   "outputs": [],
   "source": [
    "## GET DATA !!!\n",
    "\n",
    "\n",
    "# !  curl \"https://raw.githubusercontent.com/AdTekDev/EmT.DS/main/EmT%20Test%2001/Set_A.zip\" > A.zip  \n",
    "# !  tar -xf A.zip \n",
    "\n"
   ]
  },
  {
   "cell_type": "code",
   "execution_count": 1,
   "id": "a6125371",
   "metadata": {},
   "outputs": [],
   "source": [
    "import numpy as np\n",
    "import os\n",
    "import PIL\n",
    "import PIL.Image as Img\n",
    "import tensorflow as tf\n",
    "import tensorflow_datasets as tfds\n",
    "import pathlib\n",
    "import matplotlib.pyplot as plt\n",
    "\n",
    "## Models\n",
    "\n",
    "from keras.models import Sequential\n",
    "from keras.layers import Dense\n",
    "from tensorflow import keras\n",
    "from tensorflow.keras import layers"
   ]
  },
  {
   "cell_type": "code",
   "execution_count": null,
   "id": "e8166f49",
   "metadata": {},
   "outputs": [],
   "source": [
    "## Code HERE !!!\n",
    "\n",
    "\n"
   ]
  },
  {
   "cell_type": "markdown",
   "id": "5eb79d60",
   "metadata": {},
   "source": [
    "## Predict "
   ]
  },
  {
   "cell_type": "code",
   "execution_count": null,
   "id": "eb6d7882",
   "metadata": {},
   "outputs": [],
   "source": []
  }
 ],
 "metadata": {
  "kernelspec": {
   "display_name": "Python 3 (ipykernel)",
   "language": "python",
   "name": "python3"
  },
  "language_info": {
   "codemirror_mode": {
    "name": "ipython",
    "version": 3
   },
   "file_extension": ".py",
   "mimetype": "text/x-python",
   "name": "python",
   "nbconvert_exporter": "python",
   "pygments_lexer": "ipython3",
   "version": "3.11.2"
  }
 },
 "nbformat": 4,
 "nbformat_minor": 5
}
