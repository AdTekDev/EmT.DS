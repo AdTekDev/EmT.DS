{
 "cells": [
  {
   "cell_type": "markdown",
   "id": "a06144d2",
   "metadata": {},
   "source": [
    "# Emerging Technologies - TEST 01 \n",
    "\n",
    "## Class: IT 306DE01-0100 (1237) \n",
    "### Duration:  90'\n",
    "### Date: Sat, May 20, 2023 "
   ]
  },
  {
   "cell_type": "markdown",
   "id": "36b6715e",
   "metadata": {},
   "source": [
    "## Image classification  \n",
    "\n",
    "Write Python code to apply flower classification using TensorFlow and Keras.   \n",
    "The goal is to train a learning model that can accurately classify different types of flowers based on input images. The dataset for flower recognition will be specifically assigned by your instructor.   \n",
    "\n",
    "Criteria for Grading the Implementation Steps:  \n",
    "1. Organize the dataset into training and testing sets. \n",
    "2. Define the architecture of your model. \n",
    "3. Compile the model by specifying the optimizer, loss function, and evaluation metrics.\n",
    "4. Use the trained model to make predictions on new, unseen images.\n",
    "5. Visualize the predictions and analyze the model's performance.\n",
    "\n",
    "Grading will be based on the accuracy and correctness of the implementation, adherence to best practices, and the quality of the analysis and visualization provided.  \n",
    "\n",
    "Submit your ipynb file to mLearning system.\n",
    "- https://mlearning.hoasen.edu.vn/mod/assign/view.php?id=924674 \n"
   ]
  },
  {
   "cell_type": "markdown",
   "id": "d92cecbf",
   "metadata": {},
   "source": [
    "## DataSet\n",
    "\n",
    "- Set A:  \n",
    "https://github.com/AdTekDev/EmT.DS/raw/main/EmT%20Test%2001/Set_A.zip \n",
    "\n",
    "- Set B:  \n",
    "https://github.com/AdTekDev/EmT.DS/raw/main/EmT%20Test%2001/Set_B.zip\n",
    "\n",
    "- Set C:  \n",
    "https://github.com/AdTekDev/EmT.DS/raw/main/EmT%20Test%2001/Set_C.zip \n",
    "\n",
    "\n"
   ]
  },
  {
   "cell_type": "markdown",
   "id": "5baf14ce",
   "metadata": {},
   "source": [
    "## Students - INFORMATION \n",
    "\n",
    "Set:\n",
    "- \n",
    "\n",
    "Student 01:\n",
    "- Fullname  \n",
    "- ID  \n",
    "\n",
    "\n",
    "Student 02:\n",
    "- Fullname  \n",
    "- ID  \n"
   ]
  },
  {
   "cell_type": "markdown",
   "id": "18f99121",
   "metadata": {},
   "source": [
    "## Student's SOLUTION\n"
   ]
  },
  {
   "cell_type": "code",
   "execution_count": null,
   "id": "8ae04947",
   "metadata": {},
   "outputs": [],
   "source": []
  }
 ],
 "metadata": {
  "kernelspec": {
   "display_name": "Python 3 (ipykernel)",
   "language": "python",
   "name": "python3"
  },
  "language_info": {
   "codemirror_mode": {
    "name": "ipython",
    "version": 3
   },
   "file_extension": ".py",
   "mimetype": "text/x-python",
   "name": "python",
   "nbconvert_exporter": "python",
   "pygments_lexer": "ipython3",
   "version": "3.11.2"
  }
 },
 "nbformat": 4,
 "nbformat_minor": 5
}
