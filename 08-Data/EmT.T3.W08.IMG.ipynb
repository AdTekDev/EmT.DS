{
 "cells": [
  {
   "cell_type": "markdown",
   "id": "b2daef82",
   "metadata": {},
   "source": [
    "## LIBs"
   ]
  },
  {
   "cell_type": "code",
   "execution_count": 1,
   "id": "9657d703",
   "metadata": {},
   "outputs": [],
   "source": [
    "# dataset\n",
    "from sklearn import datasets\n",
    "from sklearn.datasets import make_classification\n",
    "\n",
    "# preProcessing\n",
    "from sklearn.preprocessing import StandardScaler , PolynomialFeatures\n",
    "\n",
    "# Model\n",
    "from sklearn.linear_model import LinearRegression , Perceptron\n",
    "from sklearn.neighbors import KNeighborsClassifier\n",
    "from sklearn.svm import  SVR, SVC, LinearSVC\n",
    "\n",
    "# util - split / pipeline\n",
    "from sklearn.model_selection import train_test_split\n",
    "from sklearn.pipeline import Pipeline, make_pipeline\n",
    "\n",
    "# Metrics\n",
    "from sklearn.metrics import ConfusionMatrixDisplay, mean_squared_error\n",
    "\n",
    "\n"
   ]
  },
  {
   "cell_type": "code",
   "execution_count": null,
   "id": "a8afe60c",
   "metadata": {},
   "outputs": [],
   "source": [
    "import pandas as pd\n",
    "import numpy as np\n",
    "import seaborn as sns \n",
    "import matplotlib.pyplot as plt\n",
    "import random\n",
    "\n",
    "from sklearn import linear_model"
   ]
  },
  {
   "cell_type": "code",
   "execution_count": 3,
   "id": "ce81ee19",
   "metadata": {
    "scrolled": true
   },
   "outputs": [],
   "source": [
    "import PIL\n",
    "import tensorflow as tf\n",
    "\n",
    "from tensorflow import keras\n",
    "from tensorflow.keras import layers\n",
    "from tensorflow.keras.models import Sequential"
   ]
  },
  {
   "cell_type": "code",
   "execution_count": null,
   "id": "dfe94b7d",
   "metadata": {},
   "outputs": [],
   "source": [
    "## Install\n",
    "! pip install tensorflow "
   ]
  }
 ],
 "metadata": {
  "kernelspec": {
   "display_name": "Python 3 (ipykernel)",
   "language": "python",
   "name": "python3"
  },
  "language_info": {
   "codemirror_mode": {
    "name": "ipython",
    "version": 3
   },
   "file_extension": ".py",
   "mimetype": "text/x-python",
   "name": "python",
   "nbconvert_exporter": "python",
   "pygments_lexer": "ipython3",
   "version": "3.11.2"
  }
 },
 "nbformat": 4,
 "nbformat_minor": 5
}
